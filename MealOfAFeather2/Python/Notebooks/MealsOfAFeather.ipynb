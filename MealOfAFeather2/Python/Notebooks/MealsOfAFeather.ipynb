{
 "cells": [
  {
   "cell_type": "code",
   "execution_count": 54,
   "metadata": {
    "collapsed": false
   },
   "outputs": [],
   "source": [
    "import math\n",
    "import pandas as pd\n",
    "import numpy as np\n",
    "import seaborn as sns\n",
    "import matplotlib.pyplot as plt\n",
    "%matplotlib inline\n",
    "from scipy.stats import norm\n",
    "nonalphanum = ''.join(c for c in map(chr, range(256)) if not c.isalnum())\n",
    "import warnings\n",
    "warnings.filterwarnings('ignore')"
   ]
  },
  {
   "cell_type": "markdown",
   "metadata": {},
   "source": [
    "### School Meal Participation by Community Area"
   ]
  },
  {
   "cell_type": "code",
   "execution_count": 191,
   "metadata": {
    "collapsed": true
   },
   "outputs": [],
   "source": [
    "cp = \"School Meal Participation Rates by Community Area\\CommunitySnapshotsSchoolMealParticipation.csv\"\n",
    "cp_df = pd.read_csv(cp)\n",
    "cp_df.rename(columns = lambda x: x.translate(None, nonalphanum).lower(), inplace=True)\n",
    "\n",
    "cp2015_cols = [col for col in cp_df.columns if \"2015\" in col or col == \"communityarea\"]\n",
    "cp2016_cols = [col for col in cp_df.columns if \"2016\" in col or col == \"communityarea\"]\n",
    "cp2015_df = cp_df[cp2015_cols]\n",
    "cp2016_df = cp_df[cp2016_cols]"
   ]
  },
  {
   "cell_type": "markdown",
   "metadata": {},
   "source": [
    "### School Breakfast"
   ]
  },
  {
   "cell_type": "code",
   "execution_count": 227,
   "metadata": {
    "collapsed": false
   },
   "outputs": [],
   "source": [
    "brk2015 = \"School Breakfast\\\\SchoolBreakfast2015.csv\"\n",
    "brk2016 = \"School Breakfast\\\\SchoolBreakfast2016.csv\"\n",
    "brk2015_df = pd.read_csv(brk2015)\n",
    "brk2016_df = pd.read_csv(brk2016)\n",
    "brk2015_df.rename(columns = lambda x: x.translate(None, nonalphanum).lower(), inplace=True)\n",
    "brk2016_df.rename(columns = lambda x: x.translate(None, nonalphanum).lower(), inplace=True)\n",
    "\n",
    "brk2015_df[\"fulladdress\"] = brk2015_df.apply(lambda x: x.streetaddress + \", \" + x.city + \" \" + x.state + \", \" + str(x.zip), axis = 1)\n",
    "brk2016_df[\"fulladdress\"] = brk2016_df.apply(lambda x: x.sitestreetaddress + \", \" + x.sitecity + \" \" + x.sitestate + \", \" + str(x.sitezip), axis = 1)\n",
    "\n",
    "brk2015_df.rename(columns = lambda x: x.translate(None, nonalphanum).lower() + \"2015\", inplace=True)\n",
    "brk2016_df.rename(columns = lambda x: x.translate(None, nonalphanum).lower() + \"2016\", inplace=True)\n",
    "\n",
    "brk2015_df[\"chicago2015\"] = brk2015_df.city2015.apply(lambda x: 1 if \"chicago\" in x.translate(None, nonalphanum).lower() else 0)\n",
    "brk2016_df[\"chicago2016\"] = brk2016_df.sitecity2016.apply(lambda x: 1 if \"chicago\" in x.translate(None, nonalphanum).lower() else 0)\n",
    "\n",
    "brk2015_df = brk2015_df[brk2015_df.chicago2015 == 1]\n",
    "brk2016_df = brk2016_df[brk2016_df.chicago2016 == 1]"
   ]
  },
  {
   "cell_type": "code",
   "execution_count": 228,
   "metadata": {
    "collapsed": false
   },
   "outputs": [],
   "source": [
    "loc2015 = brk2015_df[[\"entityname2015\", \"fulladdress2015\"]]\n",
    "loc2016 = brk2016_df[[\"siteentityname2016\", \"fulladdress2016\"]]\n",
    "loc2015.columns = [\"entityname\", \"fulladdress\"]\n",
    "loc2016.columns = [\"entityname\", \"fulladdress\"]\n",
    "loc = pd.concat([loc2015, loc2016])\n",
    "loc.drop_duplicates(subset = [\"entityname\", \"fulladdress\"], inplace = True)\n",
    "loc.to_csv(\"InsitutaionAddresses.csv\")"
   ]
  },
  {
   "cell_type": "markdown",
   "metadata": {},
   "source": [
    "### Food Insecurity Rates"
   ]
  },
  {
   "cell_type": "code",
   "execution_count": 194,
   "metadata": {
    "collapsed": false
   },
   "outputs": [],
   "source": [
    "fir = \"Food Insecurity Data\\\\fir2014.csv\"\n",
    "fir_df = pd.read_csv(fir)\n",
    "fir_df.rename(columns = lambda x: x.translate(None, nonalphanum).lower(), inplace=True)"
   ]
  },
  {
   "cell_type": "markdown",
   "metadata": {},
   "source": [
    "### Merge"
   ]
  },
  {
   "cell_type": "code",
   "execution_count": 195,
   "metadata": {
    "collapsed": false
   },
   "outputs": [],
   "source": [
    "cp_df[\"id\"] = cp_df.communityarea.apply(lambda x: str(x).translate(None, nonalphanum).lower())\n",
    "fir_df[\"id\"] = fir_df.chicagocommunityarea.apply(lambda x: str(x).translate(None, nonalphanum).lower())\n",
    "\n",
    "cpfir_df = cp_df.merge(fir_df, on = \"id\", how = \"left\")"
   ]
  },
  {
   "cell_type": "code",
   "execution_count": 233,
   "metadata": {
    "collapsed": false
   },
   "outputs": [],
   "source": [
    "brk2015_df[\"id\"] = brk2015_df[\"sitenumber2015\"]\n",
    "brk2016_df[\"id\"] = brk2016_df[\"sitenumber2016\"]"
   ]
  },
  {
   "cell_type": "code",
   "execution_count": 237,
   "metadata": {
    "collapsed": true
   },
   "outputs": [],
   "source": [
    "brk_df = brk2015_df.merge(brk2016_df, on = \"id\", how = \"left\")"
   ]
  },
  {
   "cell_type": "code",
   "execution_count": 238,
   "metadata": {
    "collapsed": false
   },
   "outputs": [
    {
     "data": {
      "text/html": [
       "<div>\n",
       "<table border=\"1\" class=\"dataframe\">\n",
       "  <thead>\n",
       "    <tr style=\"text-align: right;\">\n",
       "      <th></th>\n",
       "      <th>programyear2015</th>\n",
       "      <th>sitenumber2015</th>\n",
       "      <th>claimcalendaryear2015</th>\n",
       "      <th>claimcalendarmonth2015</th>\n",
       "      <th>federalfiscalyear2015</th>\n",
       "      <th>statefiscalyear2015</th>\n",
       "      <th>mealcount2015</th>\n",
       "      <th>enrol2015</th>\n",
       "      <th>ada2015</th>\n",
       "      <th>eligibles2015</th>\n",
       "      <th>...</th>\n",
       "      <th>freeeligibles2016</th>\n",
       "      <th>reducedeligibles2016</th>\n",
       "      <th>paideligibles2016</th>\n",
       "      <th>eligibleforfreeandreduced2016</th>\n",
       "      <th>enrol2016</th>\n",
       "      <th>ada2016</th>\n",
       "      <th>daysclaimed2016</th>\n",
       "      <th>averagedailyparticipation2016</th>\n",
       "      <th>sitezipplus42016</th>\n",
       "      <th>chicago2016</th>\n",
       "    </tr>\n",
       "    <tr>\n",
       "      <th>id</th>\n",
       "      <th></th>\n",
       "      <th></th>\n",
       "      <th></th>\n",
       "      <th></th>\n",
       "      <th></th>\n",
       "      <th></th>\n",
       "      <th></th>\n",
       "      <th></th>\n",
       "      <th></th>\n",
       "      <th></th>\n",
       "      <th></th>\n",
       "      <th></th>\n",
       "      <th></th>\n",
       "      <th></th>\n",
       "      <th></th>\n",
       "      <th></th>\n",
       "      <th></th>\n",
       "      <th></th>\n",
       "      <th></th>\n",
       "      <th></th>\n",
       "      <th></th>\n",
       "    </tr>\n",
       "  </thead>\n",
       "  <tbody>\n",
       "    <tr>\n",
       "      <th>10698</th>\n",
       "      <td>2015.047619</td>\n",
       "      <td>10698.0</td>\n",
       "      <td>2014.619048</td>\n",
       "      <td>6.714286</td>\n",
       "      <td>2015.0</td>\n",
       "      <td>2015.095238</td>\n",
       "      <td>274.666667</td>\n",
       "      <td>124.380952</td>\n",
       "      <td>111.0</td>\n",
       "      <td>47.333333</td>\n",
       "      <td>...</td>\n",
       "      <td>66.125</td>\n",
       "      <td>1.875</td>\n",
       "      <td>0.0</td>\n",
       "      <td>68.0</td>\n",
       "      <td>94.875</td>\n",
       "      <td>89.0</td>\n",
       "      <td>11.125</td>\n",
       "      <td>33.290659</td>\n",
       "      <td>2532.0</td>\n",
       "      <td>1.0</td>\n",
       "    </tr>\n",
       "  </tbody>\n",
       "</table>\n",
       "<p>1 rows × 32 columns</p>\n",
       "</div>"
      ],
      "text/plain": [
       "       programyear2015  sitenumber2015  claimcalendaryear2015  \\\n",
       "id                                                              \n",
       "10698      2015.047619         10698.0            2014.619048   \n",
       "\n",
       "       claimcalendarmonth2015  federalfiscalyear2015  statefiscalyear2015  \\\n",
       "id                                                                          \n",
       "10698                6.714286                 2015.0          2015.095238   \n",
       "\n",
       "       mealcount2015   enrol2015  ada2015  eligibles2015     ...       \\\n",
       "id                                                           ...        \n",
       "10698     274.666667  124.380952    111.0      47.333333     ...        \n",
       "\n",
       "       freeeligibles2016  reducedeligibles2016  paideligibles2016  \\\n",
       "id                                                                  \n",
       "10698             66.125                 1.875                0.0   \n",
       "\n",
       "       eligibleforfreeandreduced2016  enrol2016  ada2016  daysclaimed2016  \\\n",
       "id                                                                          \n",
       "10698                           68.0     94.875     89.0           11.125   \n",
       "\n",
       "       averagedailyparticipation2016  sitezipplus42016  chicago2016  \n",
       "id                                                                   \n",
       "10698                      33.290659            2532.0          1.0  \n",
       "\n",
       "[1 rows x 32 columns]"
      ]
     },
     "execution_count": 238,
     "metadata": {},
     "output_type": "execute_result"
    }
   ],
   "source": [
    "brk_df.groupby([\"id\"]).mean().head(1)"
   ]
  }
 ],
 "metadata": {
  "kernelspec": {
   "display_name": "Python 2",
   "language": "python",
   "name": "python2"
  },
  "language_info": {
   "codemirror_mode": {
    "name": "ipython",
    "version": 2
   },
   "file_extension": ".py",
   "mimetype": "text/x-python",
   "name": "python",
   "nbconvert_exporter": "python",
   "pygments_lexer": "ipython2",
   "version": "2.7.12"
  }
 },
 "nbformat": 4,
 "nbformat_minor": 0
}
