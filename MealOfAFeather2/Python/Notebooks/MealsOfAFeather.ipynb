{
 "cells": [
  {
   "cell_type": "code",
   "execution_count": 54,
   "metadata": {
    "collapsed": false
   },
   "outputs": [],
   "source": [
    "import math\n",
    "import pandas as pd\n",
    "import numpy as np\n",
    "import seaborn as sns\n",
    "import matplotlib.pyplot as plt\n",
    "%matplotlib inline\n",
    "from scipy.stats import norm\n",
    "nonalphanum = ''.join(c for c in map(chr, range(256)) if not c.isalnum())\n",
    "import warnings\n",
    "warnings.filterwarnings('ignore')"
   ]
  },
  {
   "cell_type": "markdown",
   "metadata": {},
   "source": [
    "### School Meal Participation by Community Area"
   ]
  },
  {
   "cell_type": "code",
   "execution_count": 191,
   "metadata": {
    "collapsed": true
   },
   "outputs": [],
   "source": [
    "cp = \"School Meal Participation Rates by Community Area\\CommunitySnapshotsSchoolMealParticipation.csv\"\n",
    "cp_df = pd.read_csv(cp)\n",
    "cp_df.rename(columns = lambda x: x.translate(None, nonalphanum).lower(), inplace=True)\n",
    "\n",
    "cp2015_cols = [col for col in cp_df.columns if \"2015\" in col or col == \"communityarea\"]\n",
    "cp2016_cols = [col for col in cp_df.columns if \"2016\" in col or col == \"communityarea\"]\n",
    "cp2015_df = cp_df[cp2015_cols]\n",
    "cp2016_df = cp_df[cp2016_cols]"
   ]
  },
  {
   "cell_type": "markdown",
   "metadata": {},
   "source": [
    "### School Breakfast"
   ]
  },
  {
   "cell_type": "code",
   "execution_count": 227,
   "metadata": {
    "collapsed": false
   },
   "outputs": [],
   "source": [
    "brk2015 = \"School Breakfast\\\\SchoolBreakfast2015.csv\"\n",
    "brk2016 = \"School Breakfast\\\\SchoolBreakfast2016.csv\"\n",
    "brk2015_df = pd.read_csv(brk2015)\n",
    "brk2016_df = pd.read_csv(brk2016)\n",
    "brk2015_df.rename(columns = lambda x: x.translate(None, nonalphanum).lower(), inplace=True)\n",
    "brk2016_df.rename(columns = lambda x: x.translate(None, nonalphanum).lower(), inplace=True)\n",
    "\n",
    "brk2015_df[\"fulladdress\"] = brk2015_df.apply(lambda x: x.streetaddress + \", \" + x.city + \" \" + x.state + \", \" + str(x.zip), axis = 1)\n",
    "brk2016_df[\"fulladdress\"] = brk2016_df.apply(lambda x: x.sitestreetaddress + \", \" + x.sitecity + \" \" + x.sitestate + \", \" + str(x.sitezip), axis = 1)\n",
    "\n",
    "brk2015_df.rename(columns = lambda x: x.translate(None, nonalphanum).lower() + \"2015\", inplace=True)\n",
    "brk2016_df.rename(columns = lambda x: x.translate(None, nonalphanum).lower() + \"2016\", inplace=True)\n",
    "\n",
    "brk2015_df[\"chicago2015\"] = brk2015_df.city2015.apply(lambda x: 1 if \"chicago\" in x.translate(None, nonalphanum).lower() else 0)\n",
    "brk2016_df[\"chicago2016\"] = brk2016_df.sitecity2016.apply(lambda x: 1 if \"chicago\" in x.translate(None, nonalphanum).lower() else 0)\n",
    "\n",
    "brk2015_df = brk2015_df[brk2015_df.chicago2015 == 1]\n",
    "brk2016_df = brk2016_df[brk2016_df.chicago2016 == 1]"
   ]
  },
  {
   "cell_type": "code",
   "execution_count": 228,
   "metadata": {
    "collapsed": false
   },
   "outputs": [],
   "source": [
    "loc2015 = brk2015_df[[\"entityname2015\", \"fulladdress2015\"]]\n",
    "loc2016 = brk2016_df[[\"siteentityname2016\", \"fulladdress2016\"]]\n",
    "loc2015.columns = [\"entityname\", \"fulladdress\"]\n",
    "loc2016.columns = [\"entityname\", \"fulladdress\"]\n",
    "loc = pd.concat([loc2015, loc2016])\n",
    "loc.drop_duplicates(subset = [\"entityname\", \"fulladdress\"], inplace = True)\n",
    "loc.to_csv(\"InsitutaionAddresses.csv\")"
   ]
  },
  {
   "cell_type": "markdown",
   "metadata": {},
   "source": [
    "### Food Insecurity Rates"
   ]
  },
  {
   "cell_type": "code",
   "execution_count": 194,
   "metadata": {
    "collapsed": false
   },
   "outputs": [],
   "source": [
    "fir = \"Food Insecurity Data\\\\fir2014.csv\"\n",
    "fir_df = pd.read_csv(fir)\n",
    "fir_df.rename(columns = lambda x: x.translate(None, nonalphanum).lower(), inplace=True)"
   ]
  },
  {
   "cell_type": "markdown",
   "metadata": {},
   "source": [
    "### Merge"
   ]
  },
  {
   "cell_type": "code",
   "execution_count": 195,
   "metadata": {
    "collapsed": false
   },
   "outputs": [],
   "source": [
    "cp_df[\"id\"] = cp_df.communityarea.apply(lambda x: str(x).translate(None, nonalphanum).lower())\n",
    "fir_df[\"id\"] = fir_df.chicagocommunityarea.apply(lambda x: str(x).translate(None, nonalphanum).lower())\n",
    "\n",
    "cpfir_df = cp_df.merge(fir_df, on = \"id\", how = \"left\")"
   ]
  },
  {
   "cell_type": "code",
   "execution_count": 233,
   "metadata": {
    "collapsed": false
   },
   "outputs": [],
   "source": [
    "brk2015_df[\"id\"] = brk2015_df[\"sitenumber2015\"]\n",
    "brk2016_df[\"id\"] = brk2016_df[\"sitenumber2016\"]"
   ]
  },
  {
   "cell_type": "code",
   "execution_count": 237,
   "metadata": {
    "collapsed": true
   },
   "outputs": [],
   "source": [
    "brk_df = brk2015_df.merge(brk2016_df, on = \"id\", how = \"left\")"
   ]
  },
  {
   "cell_type": "code",
   "execution_count": 243,
   "metadata": {
    "collapsed": false
   },
   "outputs": [],
   "source": [
    "brk_agg = brk_df.groupby([\"id\"]).mean()\n",
    "brk_agg.reset_index(level=0, inplace=True)"
   ]
  },
  {
   "cell_type": "code",
   "execution_count": 245,
   "metadata": {
    "collapsed": false
   },
   "outputs": [
    {
     "data": {
      "text/plain": [
       "id                                 int64\n",
       "programyear2015                  float64\n",
       "sitenumber2015                   float64\n",
       "claimcalendaryear2015            float64\n",
       "claimcalendarmonth2015           float64\n",
       "federalfiscalyear2015            float64\n",
       "statefiscalyear2015              float64\n",
       "mealcount2015                    float64\n",
       "enrol2015                        float64\n",
       "ada2015                          float64\n",
       "eligibles2015                    float64\n",
       "daysclaimed2015                  float64\n",
       "adp2015                          float64\n",
       "zip2015                          float64\n",
       "zipplus42015                     float64\n",
       "chicago2015                      float64\n",
       "programyear2016                  float64\n",
       "sitenumber2016                   float64\n",
       "claimcalendaryear2016            float64\n",
       "freemealcount2016                float64\n",
       "reducedmealcount2016             float64\n",
       "paidmealcount2016                float64\n",
       "freeandreducedmealcount2016      float64\n",
       "freeeligibles2016                float64\n",
       "reducedeligibles2016             float64\n",
       "paideligibles2016                float64\n",
       "eligibleforfreeandreduced2016    float64\n",
       "enrol2016                        float64\n",
       "ada2016                          float64\n",
       "daysclaimed2016                  float64\n",
       "averagedailyparticipation2016    float64\n",
       "sitezipplus42016                 float64\n",
       "chicago2016                      float64\n",
       "dtype: object"
      ]
     },
     "execution_count": 245,
     "metadata": {},
     "output_type": "execute_result"
    }
   ],
   "source": [
    "brk_agg.dtypes"
   ]
  },
  {
   "cell_type": "code",
   "execution_count": null,
   "metadata": {
    "collapsed": true
   },
   "outputs": [],
   "source": [
    "brk_agg = brk_agg[[\"id\", ]]"
   ]
  }
 ],
 "metadata": {
  "kernelspec": {
   "display_name": "Python 2",
   "language": "python",
   "name": "python2"
  },
  "language_info": {
   "codemirror_mode": {
    "name": "ipython",
    "version": 2
   },
   "file_extension": ".py",
   "mimetype": "text/x-python",
   "name": "python",
   "nbconvert_exporter": "python",
   "pygments_lexer": "ipython2",
   "version": "2.7.12"
  }
 },
 "nbformat": 4,
 "nbformat_minor": 0
}
